{
 "cells": [
  {
   "cell_type": "code",
   "execution_count": 1,
   "metadata": {},
   "outputs": [
    {
     "name": "stderr",
     "output_type": "stream",
     "text": [
      "/om2/user/jackking/anaconda/envs/modular_transformers/lib/python3.8/site-packages/tqdm/auto.py:21: TqdmWarning: IProgress not found. Please update jupyter and ipywidgets. See https://ipywidgets.readthedocs.io/en/stable/user_install.html\n",
      "  from .autonotebook import tqdm as notebook_tqdm\n"
     ]
    }
   ],
   "source": [
    "import numpy as np\n",
    "import pickle\n",
    "import matplotlib.pyplot as plt\n",
    "from transformers import GPT2Tokenizer, GPT2LMHeadModel, GPT2Config\n",
    "import torch as torch\n",
    "from torch.utils.data import Dataset\n",
    "from tqdm import tqdm\n",
    "import os\n",
    "\n",
    "\n",
    "tokenizer = GPT2Tokenizer.from_pretrained(\"gpt2\")\n",
    "path = \"/om2/user/jackking/modular_transformers/scripts/dimensionality_reduction\"\n",
    "device = torch.device('cuda' if torch.cuda.is_available() else 'cpu')"
   ]
  },
  {
   "cell_type": "code",
   "execution_count": 2,
   "metadata": {},
   "outputs": [],
   "source": [
    "def load_data(datatype, sub_datatype):\n",
    "\n",
    "    val_data_path = f\"{path}/data/{datatype}/valid_data_{sub_datatype}.pkl\"\n",
    "\n",
    "    with open(val_data_path, \"rb\") as f:\n",
    "        val_data = pickle.load(f)\n",
    "    \n",
    "    if sub_datatype == \"natural\":\n",
    "        data = torch.tensor(val_data)\n",
    "        labels = [0] * len(data)\n",
    "    else:\n",
    "        data = torch.tensor(val_data[\"inputs\"])\n",
    "        labels = val_data[\"labels\"]\n",
    "    \n",
    "    return data, labels"
   ]
  },
  {
   "cell_type": "code",
   "execution_count": 3,
   "metadata": {},
   "outputs": [
    {
     "data": {
      "text/plain": [
       "GPT2LMHeadModel(\n",
       "  (transformer): GPT2Model(\n",
       "    (wte): Embedding(50257, 1600)\n",
       "    (wpe): Embedding(1024, 1600)\n",
       "    (drop): Dropout(p=0.1, inplace=False)\n",
       "    (h): ModuleList(\n",
       "      (0-47): 48 x GPT2Block(\n",
       "        (ln_1): LayerNorm((1600,), eps=1e-05, elementwise_affine=True)\n",
       "        (attn): GPT2Attention(\n",
       "          (c_attn): Conv1D()\n",
       "          (c_proj): Conv1D()\n",
       "          (attn_dropout): Dropout(p=0.1, inplace=False)\n",
       "          (resid_dropout): Dropout(p=0.1, inplace=False)\n",
       "        )\n",
       "        (ln_2): LayerNorm((1600,), eps=1e-05, elementwise_affine=True)\n",
       "        (mlp): GPT2MLP(\n",
       "          (c_fc): Conv1D()\n",
       "          (c_proj): Conv1D()\n",
       "          (act): NewGELUActivation()\n",
       "          (dropout): Dropout(p=0.1, inplace=False)\n",
       "        )\n",
       "      )\n",
       "    )\n",
       "    (ln_f): LayerNorm((1600,), eps=1e-05, elementwise_affine=True)\n",
       "  )\n",
       "  (lm_head): Linear(in_features=1600, out_features=50257, bias=False)\n",
       ")"
      ]
     },
     "execution_count": 3,
     "metadata": {},
     "output_type": "execute_result"
    }
   ],
   "source": [
    "num_labels = 1\n",
    "model_name = \"eager-dawn-33\"\n",
    "datatype = \"natural_language\"\n",
    "sub_datatype = \"natural\"\n",
    "model_type = \"lm\"\n",
    "\n",
    "# model_path = f\"{path}/models/{datatype}/{sub_datatype}/{model_type}/{model_name}/epoch_26\"\n",
    "# model = GPT2LMHeadModel.from_pretrained(model_path)\n",
    "\n",
    "model_name = \"gpt2-xl\"\n",
    "datatype = \"natural_language_ud\"\n",
    "sub_datatype = \"natural\"\n",
    "model_type = \"lm\"\n",
    "\n",
    "model = GPT2LMHeadModel.from_pretrained(model_name)\n",
    "model.to(device)\n",
    "\n",
    "# data, labels = load_data(datatype, sub_datatype)"
   ]
  },
  {
   "cell_type": "code",
   "execution_count": 4,
   "metadata": {},
   "outputs": [],
   "source": [
    "datasource = \"ud\"\n",
    "sentence_length = 10\n",
    "dt = f\"{datasource}/{sentence_length}_word\"\n",
    "full_path = f\"/om2/user/jackking/modular_transformers/scripts/attention_interpretability/data/{dt}\"\n",
    "\n",
    "data = torch.tensor(pickle.load(open(f\"{full_path}/sentences.pkl\", \"rb\")))\n",
    "labels = np.zeros(len(data))"
   ]
  },
  {
   "cell_type": "code",
   "execution_count": 5,
   "metadata": {},
   "outputs": [
    {
     "name": "stderr",
     "output_type": "stream",
     "text": [
      "5815it [03:03, 31.73it/s]\n"
     ]
    }
   ],
   "source": [
    "embedding_dim = model.config.n_embd\n",
    "num_layers = model.config.n_layer\n",
    "context_len = len(data[0])\n",
    "num_samples = len(data)\n",
    "\n",
    "activations = np.zeros((num_labels, int(num_samples/num_labels), num_layers+1, context_len, embedding_dim))\n",
    "\n",
    "for sample_idx, (sample, label) in tqdm(enumerate(zip(data, labels))):\n",
    "    sample = sample.to(device)\n",
    "    output = model(sample.reshape(1, -1), output_hidden_states=True)\n",
    "    for layer_idx, hidden_state in enumerate(output.hidden_states):\n",
    "        activations[int(label), int(sample_idx%(num_samples/num_labels)), layer_idx, :, :] = hidden_state.cpu().detach().numpy()"
   ]
  },
  {
   "cell_type": "code",
   "execution_count": 6,
   "metadata": {},
   "outputs": [],
   "source": [
    "activation_path = f\"{path}/activations/{datatype}/{sub_datatype}/{model_type}/{model_name}\"\n",
    "if not os.path.exists(activation_path):\n",
    "    os.makedirs(activation_path)\n",
    "with open(f\"{activation_path}.pkl\", \"wb\") as f:\n",
    "    pickle.dump(activations, f)"
   ]
  }
 ],
 "metadata": {
  "kernelspec": {
   "display_name": "Python 3 (ipykernel)",
   "language": "python",
   "name": "python3"
  }
 },
 "nbformat": 4,
 "nbformat_minor": 2
}
